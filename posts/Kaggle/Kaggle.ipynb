{
  "cells": [
    {
      "cell_type": "raw",
      "metadata": {},
      "source": [
        "---\n",
        "title: \"\\U0001F3C6\\U0001F9493rd place at Kaggle's Classification with a Tabular Vector Borne Disease Dataset\"\n",
        "author: Adam Cseresznye\n",
        "date: '2023-06-04'\n",
        "categories:\n",
        "  - celebration\n",
        "  - Kaggle\n",
        "---"
      ],
      "id": "ea052be8"
    },
    {
      "cell_type": "markdown",
      "metadata": {},
      "source": [
        "Greetings everyone! I am thrilled to announce that I have achieved a significant milestone in my data science journey. I am delighted to share that I secured the 3rd position in Kaggle's \"Classification with a Tabular Vector Borne Disease Dataset\" competition, surpassing 931 talented contenders! If you're interested in learning more about my approach to the competition, I invite you to check out my detailed solution on the [Kaggle discussion page](https://www.kaggle.com/competitions/playground-series-s3e13/discussion/406409).\n",
        "\n",
        "![](230604-Kaggle-img1.jpeg){width=50% fig-align=\"center\"}\n",
        "\n",
        "In this exciting competition, the aim was to predict the three most probable diseases out of a total of 11 vector-borne diseases, including well-known names such as Zika, Yellow Fever, Malaria, and more. Our task involved analyzing the provided symptoms and using the MPA@3 evaluation metric for accurate predictions.\n",
        "\n",
        "My journey in the world of Kaggle has been a relatively short one, with this competition marking my third participation. To give you some context, let me share a bit about my previous placements:\n",
        "\n",
        "![](230604-Kaggle-img2.jpeg)\n",
        "\n",
        "Reaching this point has been a long and rewarding endeavor. Over the past two years, I have been studying this topic in my free time while also pursuing a full-time Ph.D. research. It has been an exciting balancing act!\n",
        "\n",
        "Participating in Kaggle competitions has been an invaluable learning experience for me. It has allowed me to apply my knowledge, explore new techniques, and connect with fellow data enthusiasts. I am deeply grateful to the organizers of Kaggle for providing a platform that fosters growth and healthy competition. \n",
        "\n",
        "While this achievement brings a sense of accomplishment, I am already diving into new competitions and expanding my skills. Currently, I am particularly interested in reproducible data and developing robust architectures for machine learning projects to enhance code reproducibility. In fact, I am considering writing a blog on this often overlooked topic.\n",
        "\n",
        "Stay tuned for more :) \n",
        "\n",
        "#DataScience #KaggleCompetition #VectorBorneDiseases #MachineLearning #ReproducibleData\n"
      ],
      "id": "13b47a42"
    }
  ],
  "metadata": {
    "kernelspec": {
      "name": "python3",
      "language": "python",
      "display_name": "Python 3 (ipykernel)"
    }
  },
  "nbformat": 4,
  "nbformat_minor": 5
}