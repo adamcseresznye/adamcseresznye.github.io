{
  "cells": [
    {
      "cell_type": "raw",
      "metadata": {},
      "source": [
        "---\n",
        "title: Top 10 things I learned from the book Effective Pandas by  Matt Harrison\n",
        "author: Adam Cseresznye\n",
        "date: '2023-08-02'\n",
        "categories:\n",
        "  - Pandas\n",
        "toc: true\n",
        "format:\n",
        "  html:\n",
        "    code-fold: true\n",
        "    code-tools: true\n",
        "---"
      ],
      "id": "07ff0b36"
    },
    {
      "cell_type": "markdown",
      "metadata": {},
      "source": [
        "[Effective Pandas by Matt Harrison](https://store.metasnake.com/effective-pandas-book) is a guide to the Pandas library, a powerful Python tool for data manipulation and analysis. The book covers a wide range of topics, from basic data structures to advanced techniques for data cleaning, transformation, and visualization.\n",
        "\n",
        "I have found Effective Pandas to be a captivating and thought-provoking read. The book offers a genuinely unique take on data wrangling, putting a great emphasis on the utility of *chaining methods* and utilizing the *lambda function*. I have found these ideas to be so useful and practical that I have revisited the book multiple times just to make sure I keep them fresh in my memory. I must have read the book from back to back at least 3-4 times.\n",
        "\n",
        "In this article, I will share the top 10 (+1) things I learned from Effective Pandas. These are the concepts and techniques that I found to be the most useful and practical.\n",
        "\n",
        "We will use the [Real World Smartphone's Dataset](https://www.kaggle.com/datasets/abhijitdahatonde/real-world-smartphones-dataset?select=smartphones.csv) by Abhijit Dahatonde from Kaggle. Let's get to it.\n"
      ],
      "id": "43d548b4"
    },
    {
      "cell_type": "code",
      "metadata": {},
      "source": [
        "import pandas as pd\n",
        "import numpy as np\n",
        "import matplotlib.pyplot as plt\n",
        "import seaborn as sns\n",
        "pd.set_option('display.max_columns', None)"
      ],
      "id": "d8692049",
      "execution_count": null,
      "outputs": []
    },
    {
      "cell_type": "markdown",
      "metadata": {},
      "source": [
        "# Load the dataset\n"
      ],
      "id": "9e5f6634"
    },
    {
      "cell_type": "code",
      "metadata": {},
      "source": [
        "df=pd.read_csv('smartphones.csv')\n",
        "# some info about the dataframe, such as dimensions and dtypes of columns\n",
        "df.info()"
      ],
      "id": "8143de95",
      "execution_count": null,
      "outputs": []
    },
    {
      "cell_type": "markdown",
      "metadata": {},
      "source": [
        "# Tip #1: Use <code>pd.assign</code> more extensively\n",
        "\n",
        "The <code>pd.assign</code> method in Pandas is a very powerful tool that can be used to create new columns, modify existing columns, or both. It is a very versatile method that can be used in a variety of ways.\n",
        "\n",
        "One of the most important benefits of using the assign method is that it can be incorporated into method chaining. This means that you can chain multiple assign methods together to create a more concise and readable code. Another benefit of using the assign method is that it completely sidesteps the infamous <code>SettingWithCopyWarning</code>. This warning is often triggered when you try to modify an existing column in a DataFrame. However, the assign method creates a new DataFrame, so there is no need to worry about this warning.\n",
        "\n",
        "**Problem statement:** Let's say we would like to capitalize the brand names located in the <code>brand_name column</code> as well as calculate the Pixels Per Inch (PPI). PPI can be calculated following the equation described by the [Pixel density](https://en.wikipedia.org/wiki/Pixel_density) page on Wikipedia.\n"
      ],
      "id": "617a8e48"
    },
    {
      "cell_type": "code",
      "metadata": {},
      "source": [
        "(df\n",
        " .assign(brand_name=lambda df: df.brand_name.str.capitalize(), # capitalizes the brand names \n",
        "         PPI=lambda df: (np.sqrt(np.square(df.resolution_height) + np.square(df.resolution_width))\n",
        "                         .div(df.screen_size)\n",
        "                         .round(1)\n",
        "                        )\n",
        "        )\n",
        " .loc[:, ['brand_name','model','PPI']]\n",
        " .sort_values(by='PPI',ascending=False)\n",
        " .head(5)\n",
        ")"
      ],
      "id": "8d5a4946",
      "execution_count": null,
      "outputs": []
    },
    {
      "cell_type": "markdown",
      "metadata": {},
      "source": [
        "# Tip #2: Simplify the management of multiple if-else conditions using <code>np.select</code>\n",
        "\n",
        "If our goal is to incorporate if-else logic seamlessly into our code, we can effortlessly achieve this using either <code>pd.mask</code> or <code>pd.where</code>. Yet, what approach should we adopt when we need to evaluate multiple conditions instead of just two? In such situations, we have two options: we can either employ successive <code>pd.mask</code> or <code>pd.where</code> calls, or we can take advantage of the <code>np.select</code> function as an alternative solution.\n",
        "\n",
        "**Problem statement:** We want to identify the top 3 and top 5 most popular processor brands in smartphones. To do this, we will first create two lists, one for the top 3 brands and one for the top 5 brands. Any processor brand that is not in either of these lists will be categorized as \"Other\".\n"
      ],
      "id": "fe6694bd"
    },
    {
      "cell_type": "code",
      "metadata": {},
      "source": [
        "# Let's create the two lists that contain the top3 and top5 brand names\n",
        "top3=df.processor_brand.value_counts().head(3).index\n",
        "top5=df.processor_brand.value_counts().head(5).index\n",
        "print(f'Top 3 most popular processors: {top3.tolist()}')\n",
        "print(f'Top 5 most popular processors: {top5.tolist()}')"
      ],
      "id": "81ed467e",
      "execution_count": null,
      "outputs": []
    },
    {
      "cell_type": "code",
      "metadata": {},
      "source": [
        "'''\n",
        "Here's an example that employs two successive pd.where calls:\n",
        "In the first pd.where call, it checks whether the brand is in the top 3; if not, it assigns the label \"Top5\" to it.\n",
        "Then, in the second call, it checks if the value is in the top 5; if not, it appends the category \"Other\".\n",
        "As you can see, the logic can become intricate and difficult to grasp, especially when dealing with numerous conditions, \n",
        "making the code cumbersome and hard to manage.\n",
        "'''\n",
        "(df\n",
        " .assign(frequency=lambda df: df.processor_brand\n",
        "         .where(df.processor_brand.isin(top3), other = 'Top5')\n",
        "         .where(df.processor_brand.isin(top5), other = 'Other')\n",
        "        )\n",
        " .loc[:, 'frequency']\n",
        " .value_counts()\n",
        ")"
      ],
      "id": "7079aab6",
      "execution_count": null,
      "outputs": []
    },
    {
      "cell_type": "code",
      "metadata": {},
      "source": [
        "'''\n",
        " Now Let's see np.select!\n",
        " It simplifies the process significantly. By providing a list of conditions we want to evaluate and their \n",
        " corresponding values if the condition evaluates to True, we can handle multiple conditions effortlessly. \n",
        " Additionally, we can specify a default value if none of the conditions evaluates to True, making the code \n",
        " much more straightforward and easier to manage. \n",
        "'''\n",
        "(df\n",
        " .assign(frequency=lambda df: np.select(condlist=[df.processor_brand.isin(top3), df.processor_brand.isin(top5)],\n",
        "                                        choicelist=[df.processor_brand,'Top5'],\n",
        "                                        default='Other'\n",
        "                                       )\n",
        "        )\n",
        " .loc[:, 'frequency']\n",
        " .value_counts()\n",
        ")"
      ],
      "id": "416bf544",
      "execution_count": null,
      "outputs": []
    },
    {
      "cell_type": "markdown",
      "metadata": {},
      "source": [
        "# Tip #3 Filter rows or columns with the combination of <code>pd.loc</code> and <code>lambda</code>\n",
        "\n",
        "Some experienced Pandas users might consider the following concept trivial, but it was an eye-opener for me after reading the book. It turns out that combining <code>pd.loc</code> and <code>lambda</code> (or any custom functions) allows us to filter both rows and columns, depending on our specific needs.\n",
        "\n",
        "**Problem statement:** We are interested in identifying phones with a battery capacity greater than 5000mAh.\n"
      ],
      "id": "4ed85e4e"
    },
    {
      "cell_type": "code",
      "metadata": {},
      "source": [
        "(df\n",
        " .loc[lambda df: df.battery_capacity.gt(5000),['model', 'battery_capacity']] # here we use pd.gt() to select values greater than 5000\n",
        " .sort_values(by='battery_capacity')\n",
        ")"
      ],
      "id": "f9fd159e",
      "execution_count": null,
      "outputs": []
    },
    {
      "cell_type": "markdown",
      "metadata": {},
      "source": [
        "# Tip #4 Rename multiple columns effortlessly with <code>rename</code> and <code>replace</code>\n",
        "\n",
        "OK. This is a big one for me. I used this one multiple times already. The title pretty much says it all. Let's say our column names contain spaces, which makes column selection by attribute access pretty much impossible.  Now, what do we do?\n",
        "Well...Let's see.\n",
        "\n",
        "**Problem statement:** We would like to remove all the underscores from our column names.\n"
      ],
      "id": "11e3a76a"
    },
    {
      "cell_type": "code",
      "metadata": {},
      "source": [
        "df.columns # original column names for reference"
      ],
      "id": "6971726c",
      "execution_count": null,
      "outputs": []
    },
    {
      "cell_type": "code",
      "metadata": {},
      "source": [
        "# column names after replacing underscores\n",
        "(df\n",
        " .rename(columns = lambda x: x.replace('_', ''))\n",
        " .columns\n",
        ")"
      ],
      "id": "a0827213",
      "execution_count": null,
      "outputs": []
    },
    {
      "cell_type": "markdown",
      "metadata": {},
      "source": [
        "# Tip #5: Use <code>pd.clip</code> to easily remove outliers\n"
      ],
      "id": "703ea493"
    },
    {
      "cell_type": "code",
      "metadata": {},
      "source": [
        "# First, we'll identify the phone brands with the most number of handsets present in our dataset.\"\n",
        "top10_brand_names = (df\n",
        "                     .brand_name\n",
        "                     .value_counts()\n",
        "                     .head(10)\n",
        "                     .index\n",
        "                     .tolist()\n",
        "                    )\n",
        "print(top10_brand_names)\n",
        "\n",
        "# Then we will sort them based on median price\n",
        "top10_brand_names_ordered = (df\n",
        "                             .loc[lambda x: x.brand_name.isin(top10_brand_names),['brand_name', 'price']]\n",
        "                             .groupby('brand_name')\n",
        "                             .median()\n",
        "                             .sort_values(by='price')\n",
        "                             .index\n",
        "                             .to_list()\n",
        "                            )\n",
        "print(top10_brand_names_ordered)"
      ],
      "id": "71041c5f",
      "execution_count": null,
      "outputs": []
    },
    {
      "cell_type": "code",
      "metadata": {
        "tags": []
      },
      "source": [
        "#| column: page\n",
        "fig, axs = plt.subplots(1,2, figsize=(10,5))\n",
        "\n",
        "# For reference, this is what our box plot looks if we leave in the outlier values\n",
        "(df\n",
        " .loc[lambda x: x.brand_name.isin(top10_brand_names),['brand_name', 'price']] # filter rows based on top10_brand_names and select columns\n",
        " .pivot(columns='brand_name',values='price') # pivot to get the brand names on the x axis later on\n",
        " .loc[:, top10_brand_names_ordered] # order the columns based on median price\n",
        " .plot\n",
        " .box(title='Top 10 most popular smartphone brands \\n -outlier values included-', \n",
        "      rot=90,\n",
        "      ax=axs[0]\n",
        "     )\n",
        ")\n",
        "\n",
        "(df\n",
        " .loc[lambda x: x['brand_name'].isin(top10_brand_names), ['brand_name', 'price']]\n",
        " .pivot(columns='brand_name', values='price')\n",
        " .loc[:, top10_brand_names_ordered]\n",
        " .pipe(lambda df: df.assign(**{col : df[col].clip(lower=df[col].quantile(0.05), # this is called dictionary unpacking\n",
        "                                                  upper=df[col].quantile(0.95))\n",
        "                              for col in df.columns}))\n",
        " .plot\n",
        " .box(title='Top 10 most popular smartphone brands \\n -only values between 5th and 95th percentiles included-',\n",
        "      rot=90,\n",
        "      ax=axs[1]\n",
        "     )\n",
        ")\n",
        "axs[0].set(ylabel='Price in local currency')\n",
        "plt.tight_layout()"
      ],
      "id": "39f91294",
      "execution_count": null,
      "outputs": []
    },
    {
      "cell_type": "markdown",
      "metadata": {},
      "source": [
        "# Tip #6: Find corrupted entries with <code>str.extract</code>\n",
        "\n",
        "How often have you encountered the situation where, for some reason, a column that is expected to only contain numerical values displays <code>object</code> as its <code>dtype</code>? This often indicates the presence of some string values mixed within the column. It would be beneficial to promptly identify all the erroneous values, correct them, and proceed with our analysis smoothly. Let's explore what we can do in such scenarios.\n",
        "\n",
        "**Problem statement:** We would like to identify any cells in a specific column that contain non-numerical values.\n"
      ],
      "id": "8f084ffe"
    },
    {
      "cell_type": "code",
      "metadata": {},
      "source": [
        "df_bad_values = df.copy(deep=True) # let's prepare a copy of the original dataframe \n",
        "\n",
        "# let's modify some of the values in the price column randomly:\n",
        "df_bad_values.loc[np.random.randint(0, high=df_bad_values.shape[0], size=10), 'price'] = '.'\n",
        "df_bad_values.loc[np.random.randint(0, high=df_bad_values.shape[0], size=10), 'price'] = '-'\n",
        "df_bad_values.loc[np.random.randint(0, high=df_bad_values.shape[0], size=10), 'price'] = '*'\n",
        "df_bad_values.info() # the modified dataframe's price column now returns object as dtype"
      ],
      "id": "a5bdf1e8",
      "execution_count": null,
      "outputs": []
    },
    {
      "cell_type": "code",
      "metadata": {},
      "source": [
        "# let's find the corrupted values easily:\n",
        "(df_bad_values\n",
        " .price\n",
        " .str.extract(r'([^a-zA-Z])') # returns NON-matching alphabetical characters\n",
        " .value_counts()\n",
        ")"
      ],
      "id": "706f8202",
      "execution_count": null,
      "outputs": []
    },
    {
      "cell_type": "markdown",
      "metadata": {},
      "source": [
        "# Tip #7: Sort values based on the <code>key</code> parameter\n",
        "\n",
        "The <code>pd.sort_values</code> function surprised me with its versatility. Previously, I had only used its <code>by</code>, <code>axis</code>, and <code>ascending</code> parameters for sorting. However, Matt's book introduced me to its <code>key</code> parameter, which allows us to apply any function to sort the values. The only constraint is that the function must return a <code>Series</code>. \n",
        "\n",
        "**Problem statement:** For whatever reason, we would like to sort the phone model names in ascending order based on their second letter.\n"
      ],
      "id": "c57d4819"
    },
    {
      "cell_type": "code",
      "metadata": {},
      "source": [
        "(df\n",
        " .iloc[:, 1:3]\n",
        " .sort_values(by='model',\n",
        "              key = lambda x: x.str[1],\n",
        "              ascending = True\n",
        "             )\n",
        " .head(10)\n",
        ")"
      ],
      "id": "ebbf048c",
      "execution_count": null,
      "outputs": []
    },
    {
      "cell_type": "markdown",
      "metadata": {},
      "source": [
        "# Tip #8: Reference an existing variable inside <code>pd.query</code> with @\n",
        "\n",
        "This resembles Tip #4, as it's a technique I frequently use. Since reading Matt's book, I have started using <code>pd.query</code> extensively to filter rows based on values, instead of relying on <code>.loc</code> or <code>.iloc</code>. In case you choose to adopt <code>pd.query</code> as well, it's essential to be aware of its capability to use \"@\" to reference variables in the environment. This feature enhances its flexibility and makes it even more convenient to apply in various data filtering scenarios.\n",
        "\n",
        "**Problem statement:** Our objective is to identify phones that meet three specific criteria: being priced below the average market price, having more processor cores than the average, and possessing a battery capacity greater than the average.\n"
      ],
      "id": "88d25424"
    },
    {
      "cell_type": "code",
      "metadata": {},
      "source": [
        "average_price=df.price.mean()\n",
        "average_cores=df.num_cores.mean()\n",
        "average_battery=df.battery_capacity.mean()\n",
        "\n",
        "(df\n",
        " .query(\"(price <= @average_price) and (num_cores >= @average_cores) and (battery_capacity >= @average_battery)\")\n",
        " .iloc[:,:3]\n",
        " .sort_values(by='price')\n",
        " .head()\n",
        ")"
      ],
      "id": "1bfecec4",
      "execution_count": null,
      "outputs": []
    },
    {
      "cell_type": "markdown",
      "metadata": {},
      "source": [
        "# Tip #9: Gain more insights by using <code>style.background_gradient</code>\n",
        "\n",
        "Being a visual creature, I often struggle to comprehend data quickly just by examining the raw table alone. Fortunately, with the help of <code>style.background_gradient</code>, similar to the <code>heatmap</code> function in the <code>seaborn</code> library, we can represent cells, in terms of color gradient, based on their values. This enables us to identify trends and patterns in our data swiftly, making data analysis more intuitive and insightful.\n",
        "\n",
        "**Problem statement:** Our goal is to identify the overall trends related to key descriptors found among the Top 10 smartphone brands, aiming to determine which brand offers the most value for our money. \n"
      ],
      "id": "45889a71"
    },
    {
      "cell_type": "code",
      "metadata": {},
      "source": [
        "#| column: page\n",
        "(df\n",
        " .query(\"brand_name.isin(@top10_brand_names_ordered)\") # filter rows based on top10 brands\n",
        " .groupby(['brand_name',])\n",
        " [['avg_rating', 'processor_speed', 'ram_capacity', \n",
        "   'screen_size', 'battery_capacity', 'price']]\n",
        " .mean()\n",
        " .sort_values(by='avg_rating')\n",
        " .transpose()\n",
        " .rename(columns=str.capitalize) # capitalize brand names\n",
        " .style\n",
        " .set_caption(\"Key descriptors of the Top 10 smartphone brands\")\n",
        " .format(precision=1)\n",
        " .background_gradient(cmap = 'vlag', axis = 1)\n",
        " .set_table_styles([\n",
        "    {'selector': 'td', 'props': 'text-align: center;'},\n",
        "     {'selector': 'caption','props': 'font-size:1.5em; font-weight:bold;'}\n",
        "     ,]\n",
        " )\n",
        ")"
      ],
      "id": "7910b3f7",
      "execution_count": null,
      "outputs": []
    },
    {
      "cell_type": "markdown",
      "metadata": {},
      "source": [
        "# Tip #10: Use <code>pd.pipe</code> to include any functions in our chain\n",
        "\n",
        "One of the most valuable lessons I learned from Effective Pandas is the importance of arranging my code in a chain. Although it may feel somewhat restrictive at first, once you overcome the initial hurdles, you'll realize that your code becomes more readable and easier to understand. The need to invent unique names for temporary variables is completely eliminated, making coding a much happier experience.  \n",
        "  \n",
        "In the chaining world, you often find yourself wanting to use various functions that are not explicitly designed for chaining. However, there's good news! You can still achieve this. The  <code>pd.pipe</code> function comes to the rescue, allowing you to use any function as long as it returns a Series or DataFrame. It's a flexible solution that empowers you to seamlessly integrate different functions into your chaining workflow, making your data manipulation more efficient and enjoyable.\n",
        "\n",
        "**Problem statement:** We aim to visualize the impact of RAM capacity on user satisfaction. To achieve this, we will utilize the <code>sns.lmplot</code> function, which plots the data and corresponding regression models for the Top 5 phone brands. \n"
      ],
      "id": "0f28cbec"
    },
    {
      "cell_type": "code",
      "metadata": {},
      "source": [
        "top5_brand_names_ordered = df.brand_name.value_counts().head().index\n",
        "\n",
        "with sns.axes_style(\"darkgrid\"):\n",
        "    g = (df\n",
        "         .query(\"brand_name.isin(@top5_brand_names_ordered)\") # filter rows based on top10 brands\n",
        "         [['brand_name', 'avg_rating', 'ram_capacity']]\n",
        "         .assign(brand_name=lambda df: df.brand_name.str.capitalize())\n",
        "         .rename(columns={'brand_name':'Brand name'})\n",
        "         .pipe(lambda df: sns.lmplot(data=df,\n",
        "                                     x='ram_capacity',\n",
        "                                     y='avg_rating',\n",
        "                                     hue='Brand name',\n",
        "                                     # height=4,\n",
        "                                     # aspect=1.2\n",
        "                                    )\n",
        "              )\n",
        "        )\n",
        "\n",
        "    g.set(title='Customer satisfaction correlates with RAM capacity', \n",
        "          xlabel='RAM capacity',\n",
        "          ylabel='User rating'\n",
        "         )\n",
        "plt.tight_layout()"
      ],
      "id": "bcb4b8ad",
      "execution_count": null,
      "outputs": []
    },
    {
      "cell_type": "markdown",
      "metadata": {},
      "source": [
        "# Tip #10 + 1: Use the \"margin\" parameter of <code>pd.crosstab</code> to easily calculate row/column subtotals\n",
        "\n",
        "Despite primarily using the pandas <code>groupby</code> function for data aggregation, the <code>pd.crosstab</code> function has an enticing feature: the <code>margin</code> parameter. This option enables us to effortlessly calculate subtotals across rows and columns. Moreover, by normalizing our data, we can gain even more intuition about the questions we want to answer.\n",
        "\n",
        "**Problem statement:** Our objective is to evaluate how RAM capacity impacts user satisfaction across the Top 5 brands. Additionally, we will normalize our data to compare values comprehensively across the entire dataset.\n"
      ],
      "id": "6d5ea9b6"
    },
    {
      "cell_type": "code",
      "metadata": {},
      "source": [
        "(df\n",
        " .query(\"brand_name.isin(@top5_brand_names_ordered)\") # filter rows based on top10 brands\n",
        " .assign(brand_name=lambda df: df.brand_name.str.capitalize())\n",
        " .pipe(lambda df: pd.crosstab(index=df['ram_capacity'],\n",
        "                              columns=df['brand_name'],\n",
        "                              values=df['avg_rating'],\n",
        "                              aggfunc='mean',\n",
        "                              margins=True,\n",
        "                              normalize='all'\n",
        "                             )\n",
        "      )\n",
        " .mul(100)\n",
        " .round(1)\n",
        ")"
      ],
      "id": "3ca01c1b",
      "execution_count": null,
      "outputs": []
    },
    {
      "cell_type": "markdown",
      "metadata": {},
      "source": [
        "I hope this article has convinced you to pick up Matt Harrison's [Effective Pandas](https://store.metasnake.com/effective-pandas-book)! There are plenty more exciting ideas in the book beyond the Top 10 I've shared here (I didn't even get into the fascinating time series part!). I hope you found these insights helpful and inspiring.\n",
        "\n",
        "Happy coding 🐼💻🚀\n"
      ],
      "id": "74d88e39"
    }
  ],
  "metadata": {
    "kernelspec": {
      "display_name": "Python 3",
      "language": "python",
      "name": "python3"
    }
  },
  "nbformat": 4,
  "nbformat_minor": 5
}