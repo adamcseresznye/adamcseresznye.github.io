{
  "cells": [
    {
      "cell_type": "raw",
      "metadata": {},
      "source": [
        "---\n",
        "title: Getting Started with Polars\n",
        "author: Adam Cseresznye\n",
        "date: '2023-08-11'\n",
        "categories:\n",
        "  - Polars\n",
        "toc: true\n",
        "format:\n",
        "  html:\n",
        "    code-fold: true\n",
        "    code-tools: true\n",
        "---"
      ],
      "id": "60015fba"
    },
    {
      "cell_type": "markdown",
      "metadata": {},
      "source": [
        "#| label: Hot ones logo\n",
        "#| fig-cap: \"fig1\"\n",
        "\n",
        "![](https://raw.githubusercontent.com/pola-rs/polars-static/master/web/splash.png){fig-align=\"center\" width=80%}\n",
        "\n",
        "In the ever-evolving field of data science, effective data manipulation tools are essential. Enter Polars, a Rust-based library garnering attention within the data community. Boasting impressive speed and versatile capabilities, Polars is redefining our data management practices. In this blog, we delve into Polars' core functions and practical applications, shedding light on how it empowers data professionals to efficiently tackle complex tasks.\n",
        "\n",
        "For those well-versed in Pandas, Polars offers a blend of familiarity and innovation. Although this document is not designed to substitute the official documentation, it serves as a tool to provide you with insights into the capabilities that polars offers. Our goal is to ensure the continuous updating of this document.\n",
        "\n",
        "Our exploration of Polars is guided by insights from the [Polars User Guide](https://pola-rs.github.io/polars-book/user-guide/), Kevin Heavey's perspectives in [Modern Polars](https://kevinheavey.github.io/modern-polars/) and Matt Harrison's [engaging tutorial](https://www.youtube.com/watch?v=CJ0f45evuME) on Polars at PyCon.\n",
        "We kickstart our exploration with Matt Harrison's shared dataset, the US Department of Energy's [Automobile Fuel Economy data](https://github.com/mattharrison/datasets/blob/master/data/vehicles.csv.zip). Let's begin this journey! \n",
        "\n",
        "# Setup\n"
      ],
      "id": "7c7921e6"
    },
    {
      "cell_type": "code",
      "metadata": {
        "tags": []
      },
      "source": [
        "import pandas as pd\n",
        "import polars as pl\n",
        "import polars.selectors as cs\n",
        "\n",
        "import seaborn as sns\n",
        "import matplotlib.pyplot as plt\n",
        "\n",
        "pl.Config.set_tbl_rows(2)  # limit the numbers of rows printed"
      ],
      "id": "54891336",
      "execution_count": null,
      "outputs": []
    },
    {
      "cell_type": "markdown",
      "metadata": {},
      "source": [
        "# Polars Version\n",
        "\n",
        "We are using Polars 0.18.8 for this demonstration.\n"
      ],
      "id": "9676909b"
    },
    {
      "cell_type": "code",
      "metadata": {
        "tags": []
      },
      "source": [
        "pl.__version__"
      ],
      "id": "9ea9518a",
      "execution_count": null,
      "outputs": []
    },
    {
      "cell_type": "markdown",
      "metadata": {},
      "source": [
        "Given the large size of the dataset and the fact that some columns aren't really useful for us, we'll start by picking out the information we actually need. Feel free to use the code below to work with your dataframe.\n"
      ],
      "id": "a188bbaf"
    },
    {
      "cell_type": "code",
      "metadata": {
        "tags": []
      },
      "source": [
        "df = pl.read_csv(\"vehicles.csv\", null_values=\"NA\")\n",
        "\n",
        "# process and save parquet for later use\n",
        "(\n",
        "    df.select(\n",
        "        pl.col(\n",
        "            \"make\",\n",
        "            \"model\",\n",
        "            \"drive\",\n",
        "            \"cylinders\",\n",
        "            \"displ\",\n",
        "            \"fuelType\",\n",
        "            \"mpgData\",\n",
        "            \"city08\",\n",
        "            \"highway08\",\n",
        "            \"comb08\",\n",
        "            \"year\",\n",
        "        )\n",
        "    )\n",
        "    .with_columns(\n",
        "        pl.col(\"make\").cast(pl.Categorical, strict=False),\n",
        "        pl.col(\"model\").cast(pl.Categorical, strict=False),\n",
        "        pl.col(\"drive\").cast(pl.Categorical, strict=False),\n",
        "        pl.col(\"fuelType\").cast(pl.Categorical, strict=False),\n",
        "        pl.col(\"cylinders\").cast(pl.Int8, strict=False),\n",
        "        pl.col(\"displ\").cast(pl.Float32, strict=False),\n",
        "        pl.col(\"mpgData\").map_dict({\"N\": False, \"Y\": True}),\n",
        "        pl.col(\"city08\").cast(pl.Int8, strict=False),\n",
        "        pl.col(\"highway08\").cast(pl.Int8, strict=False),\n",
        "        pl.col(\"comb08\").cast(pl.Int8, strict=False),\n",
        "        pl.col(\"year\").cast(pl.Utf8).str.to_datetime(\"%Y\").cast(pl.Date),\n",
        "    )\n",
        "    .write_parquet(\"vehicles.parquet\")\n",
        ")\n",
        "df = pl.read_parquet(\"vehicles.parquet\")"
      ],
      "id": "1fa82f73",
      "execution_count": null,
      "outputs": []
    },
    {
      "cell_type": "markdown",
      "metadata": {},
      "source": [
        "# Inspect the polars namespace \n",
        "\n",
        "Taking a closer look at the Polars namespace can be really helpful as you start to get to know the library. By exploring the functions, methods, and attributes available within the namespace, you'll get a better sense of what the library can do. This exploration sets the groundwork for you to use the library more effectively and make the most of its features.\n",
        "\n",
        "By issuing `print(dir(pl))`, we can explore the accessible functions within the namespace.\n"
      ],
      "id": "e1d9400e"
    },
    {
      "cell_type": "code",
      "metadata": {
        "tags": []
      },
      "source": [
        "# available functions\n",
        "\n",
        "print(dir(pl))"
      ],
      "id": "4b821acf",
      "execution_count": null,
      "outputs": []
    },
    {
      "cell_type": "markdown",
      "metadata": {},
      "source": [
        "The same applies to the methods available for DataFrames.\n"
      ],
      "id": "34401981"
    },
    {
      "cell_type": "code",
      "metadata": {
        "tags": []
      },
      "source": [
        "# methods defined on dataframes\n",
        "\n",
        "print(dir(df))"
      ],
      "id": "ff5c0057",
      "execution_count": null,
      "outputs": []
    },
    {
      "cell_type": "markdown",
      "metadata": {},
      "source": [
        "...and expressions for the Series\n"
      ],
      "id": "c3358294"
    },
    {
      "cell_type": "code",
      "metadata": {
        "tags": []
      },
      "source": [
        "# available expressions\n",
        "\n",
        "print(dir(pl.col(\"foo\")))"
      ],
      "id": "bdeb5ded",
      "execution_count": null,
      "outputs": []
    },
    {
      "cell_type": "markdown",
      "metadata": {},
      "source": [
        "# Access documentation\n",
        "\n",
        "If you're familiar with Python, you might recognize that you can access documentation by either using `__doc__` or by calling the `help()` function.\n"
      ],
      "id": "ed4b8f2c"
    },
    {
      "cell_type": "code",
      "metadata": {
        "tags": []
      },
      "source": [
        "print(df[\"year\"].dt.convert_time_zone.__doc__)"
      ],
      "id": "6c9f7ffe",
      "execution_count": null,
      "outputs": []
    },
    {
      "cell_type": "code",
      "metadata": {
        "tags": []
      },
      "source": [
        "help(pl.head)"
      ],
      "id": "9f43e03c",
      "execution_count": null,
      "outputs": []
    },
    {
      "cell_type": "markdown",
      "metadata": {},
      "source": [
        "# Indexing\n",
        "\n",
        "If you've spent some time working with Pandas, you might find it interesting that Polars doesn't rely on the concept of an index like Pandas does. But no need to fret—there are several other ways we can still access the rows in Polars. One of the straightforward methods—although I won't delve too deeply into it here—is using the `head`, `tail`, and `sample` methods.\n",
        "\n",
        "## Use `take` for Series or Expressions\n",
        "\n",
        "An interesting approach is through Polars' `take` method. This method can be used with `Expr`, `Series`, or `np.ndarray`. However, it's worth noting that if you intend to utilize it with DataFrames, a preliminary conversion to Series is necessary.\n"
      ],
      "id": "73d0f0f9"
    },
    {
      "cell_type": "code",
      "metadata": {
        "tags": []
      },
      "source": [
        "#| column: margin\n",
        "\n",
        "df.select(pl.col(\"make\")).to_series().take(list(range(0, 5)))"
      ],
      "id": "a207f74f",
      "execution_count": null,
      "outputs": []
    },
    {
      "cell_type": "markdown",
      "metadata": {},
      "source": [
        "## Using `filter`\n",
        "\n",
        "Similar to Pandas, Polars features a `filter` method that assists in the process of selectively filtering rows based on one or multiple conditions.\n",
        "\n",
        "### Evaluate a single condition \n"
      ],
      "id": "887e9ef8"
    },
    {
      "cell_type": "code",
      "metadata": {
        "tags": []
      },
      "source": [
        "df.filter(pl.col(\"model\") == \"Testarossa\")"
      ],
      "id": "d237ed9d",
      "execution_count": null,
      "outputs": []
    },
    {
      "cell_type": "markdown",
      "metadata": {},
      "source": [
        "### Combine multiple conditions\n"
      ],
      "id": "57cf4600"
    },
    {
      "cell_type": "code",
      "metadata": {
        "tags": []
      },
      "source": [
        "df.filter((pl.col(\"model\") == \"Testarossa\") & (pl.col(\"make\") == \"Ferrari\"))"
      ],
      "id": "71ced6f7",
      "execution_count": null,
      "outputs": []
    },
    {
      "cell_type": "markdown",
      "metadata": {},
      "source": [
        "## Imitate pandas' `index` using `with_row_count`\n",
        "\n",
        "Even in the absence of a traditional index, you can make use of the `with_row_count` method in Polars. This clever method comes to the rescue for tasks like indexing and filtering, providing an alternative approach.\n"
      ],
      "id": "136b3fb3"
    },
    {
      "cell_type": "code",
      "metadata": {
        "tags": []
      },
      "source": [
        "(df.with_row_count().filter(pl.col(\"row_nr\") == 5))"
      ],
      "id": "0812719f",
      "execution_count": null,
      "outputs": []
    },
    {
      "cell_type": "markdown",
      "metadata": {},
      "source": [
        "### Use `is_in`\n",
        "\n",
        "The `is_in` function can be employed to verify whether elements of a given expression are present within another Series. We can use this to filter our rows.\n"
      ],
      "id": "724b2385"
    },
    {
      "cell_type": "code",
      "metadata": {
        "tags": []
      },
      "source": [
        "df.filter(pl.col(\"cylinders\").is_in([i for i in range(6, 8)]))"
      ],
      "id": "c1831990",
      "execution_count": null,
      "outputs": []
    },
    {
      "cell_type": "markdown",
      "metadata": {},
      "source": [
        "# Select columns\n",
        "\n",
        "Before we dive into the realm of selecting columns, it's important to introduce the concepts of `with_columns` and `select`, while also highlighting the distinctions between these two methods.\n",
        "\n",
        "## Difference between `select` and  with_columns`\n",
        "\n",
        "As evident from the examples below, both `select` and `with_column` can be utilized for both column selection and column assignment. However, there's a crucial distinction between the two. After performing column operations, the `select` method drops the unselected columns and retains only the columns that underwent operations. Conversely, the `with_column` method appends the new columns to the dataframe, preserving the original ones.\n"
      ],
      "id": "6fb1601e"
    },
    {
      "cell_type": "code",
      "metadata": {
        "tags": []
      },
      "source": [
        "#| column: margin\n",
        "\n",
        "# everything else is dropped\n",
        "\n",
        "(\n",
        "    df.select(\n",
        "        (pl.col(\"city08\") + 10).alias(\"added\"),\n",
        "        (pl.col(\"city08\") - 10).alias(\"substracted\"),\n",
        "    )\n",
        ")"
      ],
      "id": "bcee6bfe",
      "execution_count": null,
      "outputs": []
    },
    {
      "cell_type": "code",
      "metadata": {
        "tags": []
      },
      "source": [
        "# columns are kept\n",
        "\n",
        "(\n",
        "    df.with_columns(\n",
        "        (pl.col(\"city08\") + 10).alias(\"added\"),\n",
        "        (pl.col(\"city08\") - 10).alias(\"substracted\"),\n",
        "    )\n",
        ")"
      ],
      "id": "f2410bd3",
      "execution_count": null,
      "outputs": []
    },
    {
      "cell_type": "markdown",
      "metadata": {},
      "source": [
        "Now that we've clarified this point, let's proceed to explore the fundamental methods for selecting columns. \n",
        "\n",
        "## Select all columns\n",
        "\n",
        "A particularly handy tool is `pl.all()`, which provides the current state of the dataframe—similar to `pd.assign(foo=lambda df)` in Pandas. This can prove useful, particularly when dealing with operations like groupby and aggregation. \n"
      ],
      "id": "113413c7"
    },
    {
      "cell_type": "code",
      "metadata": {
        "tags": []
      },
      "source": [
        "# this is analogous to df.select(pl.col(\"*\")), where * represents the wildcard component\n",
        "df.select(pl.all())"
      ],
      "id": "c29b2eaa",
      "execution_count": null,
      "outputs": []
    },
    {
      "cell_type": "markdown",
      "metadata": {},
      "source": [
        "## Select all columns except for...\n"
      ],
      "id": "a0a28d38"
    },
    {
      "cell_type": "code",
      "metadata": {
        "tags": []
      },
      "source": [
        "df.select(pl.col(\"*\").exclude(\"year\", \"comb08\", \"highway08\"))"
      ],
      "id": "c52867ca",
      "execution_count": null,
      "outputs": []
    },
    {
      "cell_type": "markdown",
      "metadata": {},
      "source": [
        "## Select a subset of columns\n"
      ],
      "id": "fbe84118"
    },
    {
      "cell_type": "code",
      "metadata": {
        "tags": []
      },
      "source": [
        "#| column: margin\n",
        "\n",
        "df.select(pl.col(\"year\", \"comb08\", \"highway08\"))"
      ],
      "id": "792149b8",
      "execution_count": null,
      "outputs": []
    },
    {
      "cell_type": "markdown",
      "metadata": {},
      "source": [
        "## Select columns based on regular expression \n"
      ],
      "id": "8acbffed"
    },
    {
      "cell_type": "code",
      "metadata": {
        "tags": []
      },
      "source": [
        "#| column: margin\n",
        "\n",
        "df.select(pl.col(\"^.*(mo|ma).*$\"))"
      ],
      "id": "42dcfab7",
      "execution_count": null,
      "outputs": []
    },
    {
      "cell_type": "markdown",
      "metadata": {},
      "source": [
        "## Select columns based on dtypes\n",
        "\n",
        "This may remind you of pandas' `select_dtypes` method.\n"
      ],
      "id": "579c1cde"
    },
    {
      "cell_type": "code",
      "metadata": {
        "tags": []
      },
      "source": [
        "df.select(pl.col(pl.Int8, pl.Boolean))"
      ],
      "id": "fae79453",
      "execution_count": null,
      "outputs": []
    },
    {
      "cell_type": "markdown",
      "metadata": {},
      "source": [
        "## Using `selectors`\n",
        "\n",
        "Selectors offer a more intuitive approach to selecting columns from DataFrame or LazyFrame objects, taking into account factors like column names, data types, and other properties. They consolidate and enhance the functionality that's accessible through the `col()` expression. More on them [here](https://pola-rs.github.io/polars/py-polars/html/reference/selectors.html#selectors).\n",
        "\n",
        "### By dtypes\n"
      ],
      "id": "4325bdd4"
    },
    {
      "cell_type": "code",
      "metadata": {
        "tags": []
      },
      "source": [
        "df.select(cs.integer(), cs.float(), cs.temporal())"
      ],
      "id": "36794f12",
      "execution_count": null,
      "outputs": []
    },
    {
      "cell_type": "code",
      "metadata": {
        "tags": []
      },
      "source": [
        "# all columns except for the ones containing float\n",
        "df.select(cs.all() - cs.numeric())"
      ],
      "id": "f99ebf4b",
      "execution_count": null,
      "outputs": []
    },
    {
      "cell_type": "code",
      "metadata": {
        "tags": []
      },
      "source": [
        "# same as the one above but it uses the tilde\n",
        "df.select(~cs.numeric())"
      ],
      "id": "a61145c4",
      "execution_count": null,
      "outputs": []
    },
    {
      "cell_type": "markdown",
      "metadata": {},
      "source": [
        "### By column names\n"
      ],
      "id": "428d41b5"
    },
    {
      "cell_type": "code",
      "metadata": {
        "tags": []
      },
      "source": [
        "#| column: margin\n",
        "\n",
        "df.select(cs.contains(\"08\"))"
      ],
      "id": "a6ebdd59",
      "execution_count": null,
      "outputs": []
    },
    {
      "cell_type": "code",
      "metadata": {
        "tags": []
      },
      "source": [
        "#| column: margin\n",
        "\n",
        "df.select(cs.starts_with(\"d\"))"
      ],
      "id": "e53dde8b",
      "execution_count": null,
      "outputs": []
    },
    {
      "cell_type": "markdown",
      "metadata": {},
      "source": [
        "The possibilities here are incredibly vast! I'm pretty sure you'll find a function that suits your needs just right.\n",
        "\n",
        "# `dtype` conversions\n",
        "\n",
        "Understanding and managing data types, as well as converting them, are very important—particularly when dealing with larger datasets. Luckily, with Polars, this process is wonderfully straightforward. Here's a useful tip: in many cases, the `cast` method will be your trusty companion for data type conversions. It's quite versatile and often does the job seamlessly. When it comes to converting dates, things can get a bit more intricate, but rest assured, it's a hurdle you can easily overcome!\n",
        "\n",
        "More info on the available dtypes can be found [here](https://pola-rs.github.io/polars-book/user-guide/concepts/data-types/).\n"
      ],
      "id": "caaa4fb0"
    },
    {
      "cell_type": "code",
      "metadata": {
        "tags": []
      },
      "source": [
        "#| column: margin\n",
        "\n",
        "(\n",
        "    df.select(\n",
        "        pl.col(\"cylinders\").cast(pl.Int32),\n",
        "        pl.col(\"displ\").cast(pl.Int64),\n",
        "        pl.col(\"mpgData\").cast(pl.Int64),\n",
        "    )\n",
        ")"
      ],
      "id": "ec3c6b56",
      "execution_count": null,
      "outputs": []
    },
    {
      "cell_type": "markdown",
      "metadata": {},
      "source": [
        "# Working with `str`\n",
        "\n",
        "We can examine the available attributes when working with strings. You might notice that it boasts some familiar attributes, like `extract`, `replace`, `split`, and `strip`, among others.\n"
      ],
      "id": "4ccc4185"
    },
    {
      "cell_type": "code",
      "metadata": {
        "tags": []
      },
      "source": [
        "# attributes of str\n",
        "print(dir(pl.col(\"*\").str))"
      ],
      "id": "4791ae40",
      "execution_count": null,
      "outputs": []
    },
    {
      "cell_type": "markdown",
      "metadata": {},
      "source": [
        "## Basic operations\n"
      ],
      "id": "3093013f"
    },
    {
      "cell_type": "code",
      "metadata": {
        "tags": []
      },
      "source": [
        "(\n",
        "    df.select(\n",
        "        pl.col(\"make\").cast(pl.Utf8).str.contains(\"Hyundai|Kia\").alias(\"contains\"),\n",
        "        pl.col(\"make\").cast(pl.Utf8).str.starts_with(\"Alfa\").alias(\"starts_with\"),\n",
        "        pl.col(\"make\").cast(pl.Utf8).str.ends_with(\"ari\").alias(\"ends_with\"),\n",
        "    )\n",
        ")"
      ],
      "id": "607b8b38",
      "execution_count": null,
      "outputs": []
    },
    {
      "cell_type": "markdown",
      "metadata": {},
      "source": [
        "We can extract the numbers from the different car models:\n"
      ],
      "id": "7bdc586b"
    },
    {
      "cell_type": "code",
      "metadata": {
        "tags": []
      },
      "source": [
        "#| column: margin\n",
        "\n",
        "(\n",
        "    df.select(\n",
        "        pl.col(\"model\")\n",
        "        .cast(pl.Utf8)\n",
        "        .str.extract(r\"(\\d+)\", group_index=1)\n",
        "        .cast(pl.Int32)\n",
        "        .alias(\"extracted_number\"),\n",
        "    )\n",
        ")"
      ],
      "id": "1a7ff04d",
      "execution_count": null,
      "outputs": []
    },
    {
      "cell_type": "markdown",
      "metadata": {},
      "source": [
        "As per usual, we can replace values in a given column:\n"
      ],
      "id": "fa244f08"
    },
    {
      "cell_type": "code",
      "metadata": {
        "tags": []
      },
      "source": [
        "#| column: margin\n",
        "\n",
        "(\n",
        "    df.select(\n",
        "        pl.col(\"make\").cast(pl.Utf8).str.replace(\"r\", 0).alias(\"replaced\"),\n",
        "    )\n",
        ")"
      ],
      "id": "7fbfbdb1",
      "execution_count": null,
      "outputs": []
    },
    {
      "cell_type": "markdown",
      "metadata": {},
      "source": [
        "## Changing column names\n",
        "\n",
        "Altering column names is quite reminiscent of the process in Pandas:\n"
      ],
      "id": "337dc2c6"
    },
    {
      "cell_type": "code",
      "metadata": {
        "tags": []
      },
      "source": [
        "df.rename({\"make\": \"car maker\", \"model\": \"car model\"})"
      ],
      "id": "60bcd7b8",
      "execution_count": null,
      "outputs": []
    },
    {
      "cell_type": "markdown",
      "metadata": {},
      "source": [
        "In case you would like to alter multiple column names all at once:\n"
      ],
      "id": "dc925516"
    },
    {
      "cell_type": "code",
      "metadata": {
        "tags": []
      },
      "source": [
        "df.select(pl.all().map_alias(lambda name: name.upper().replace(\"I\", \"0000\")))"
      ],
      "id": "0f44fb85",
      "execution_count": null,
      "outputs": []
    },
    {
      "cell_type": "markdown",
      "metadata": {},
      "source": [
        "### `str.split` with `expand='all'`\n",
        "\n",
        "\n",
        "I often find myself using the `str.split` method, and it caught me off guard that there isn't a direct equivalent in Polars. Fingers crossed, we might come across an implementation like `expand=True` from Pandas, which would be a real game-changer here too!\n"
      ],
      "id": "c5f35554"
    },
    {
      "cell_type": "code",
      "metadata": {
        "tags": []
      },
      "source": [
        "#| column: margin\n",
        "\n",
        "(\n",
        "    df.select(\n",
        "        pl.col(\"drive\")\n",
        "        .cast(pl.Utf8)\n",
        "        .str.split_exact(\"-\", n=1)\n",
        "        .struct.rename_fields([\"first_part\", \"second_part\"])\n",
        "        .alias(\"fields\"),\n",
        "    ).unnest(\"fields\")\n",
        ")"
      ],
      "id": "27f4bd7f",
      "execution_count": null,
      "outputs": []
    },
    {
      "cell_type": "markdown",
      "metadata": {},
      "source": [
        "# Aggregation\n",
        "\n",
        "Split-apply-combine operations are where Polars truly excels. This is largely due to its foundation in Rust, Polars' use of lazy evaluation, parallel execution, and efficient memory management also contribute to its speed. As a result, split-apply-combine operations are significantly faster in Polars compared to conventional methods.\n",
        "\n",
        "## A simple split-apply-combine operation\n"
      ],
      "id": "a8b505c0"
    },
    {
      "cell_type": "code",
      "metadata": {
        "tags": []
      },
      "source": [
        "#| column: margin\n",
        "\n",
        "(df.groupby(\"make\").count().sort(by=\"count\", descending=True).limit(5))"
      ],
      "id": "9afd5ec7",
      "execution_count": null,
      "outputs": []
    },
    {
      "cell_type": "markdown",
      "metadata": {},
      "source": [
        "## Using `agg`\n",
        "\n",
        "You can use `agg` to calculate statistics over either a single or multiple columns all at once.\n"
      ],
      "id": "d11cd7bf"
    },
    {
      "cell_type": "code",
      "metadata": {
        "tags": []
      },
      "source": [
        "(df.groupby(\"make\").agg(pl.count(), pl.col(\"model\")))"
      ],
      "id": "b8199ea2",
      "execution_count": null,
      "outputs": []
    },
    {
      "cell_type": "markdown",
      "metadata": {},
      "source": [
        "Here's an illustration of how to utilize the `is_not_nan` method. In Polars, unknown values are represented with floating-point precision, similar to how pandas handles them. It's important not to mix this up with missing values, which are indicated by `Null` in Polars. Additionally, take note of the use of `limit` instead of `head`, a concept quite akin to SQL.\n"
      ],
      "id": "98bcde4d"
    },
    {
      "cell_type": "code",
      "metadata": {
        "tags": []
      },
      "source": [
        "(\n",
        "    df.groupby(\"make\")\n",
        "    .agg(\n",
        "        pl.col(\"city08\").mean().alias(\"mean_cyl\"),\n",
        "        pl.col(\"displ\").mean().alias(\"mean_disp\"),\n",
        "    )\n",
        "    .filter(pl.col(\"mean_cyl\").is_not_nan())\n",
        "    .sort(by=[\"mean_cyl\", \"mean_disp\"], descending=[True, True])\n",
        "    .limit(5)\n",
        ")"
      ],
      "id": "0ba44e7e",
      "execution_count": null,
      "outputs": []
    },
    {
      "cell_type": "markdown",
      "metadata": {},
      "source": [
        "Aggregated columns can be renamed immediately with the `alias` method.\n"
      ],
      "id": "a404501e"
    },
    {
      "cell_type": "code",
      "metadata": {
        "tags": []
      },
      "source": [
        "(\n",
        "    df.groupby(\"make\", \"fuelType\")\n",
        "    .agg(pl.col(\"comb08\").mean().alias(\"filtered\"))\n",
        "    .filter((pl.col(\"fuelType\") == \"CNG\") | (pl.col(\"fuelType\") == \"Diesel\"))\n",
        ")"
      ],
      "id": "5b4b00c8",
      "execution_count": null,
      "outputs": []
    },
    {
      "cell_type": "markdown",
      "metadata": {},
      "source": [
        "Here's a scenario for performing aggregation based on the year. In this case, the \"year\" column holds the year-related data, which can be extracted using the `dt.year` attribute. Keep in mind that Polars doesn't have native plotting capabilities like pandas. To visualize the data, as a final step, you can convert the dataframe to pandas and make use of its `.plot` method.\n"
      ],
      "id": "66ff8914"
    },
    {
      "cell_type": "code",
      "metadata": {
        "tags": []
      },
      "source": [
        "(\n",
        "    df.groupby(\n",
        "        [\n",
        "            pl.col(\"year\").dt.year().alias(\"year\"),\n",
        "        ]\n",
        "    )\n",
        "    .agg([pl.col(\"comb08\").mean(), pl.col(\"city08\").mean()])\n",
        "    .sort(\n",
        "        [\n",
        "            \"year\",\n",
        "        ]\n",
        "    )\n",
        "    .to_pandas()\n",
        "    .set_index(\"year\")\n",
        "    .plot()\n",
        ")"
      ],
      "id": "5121e78d",
      "execution_count": null,
      "outputs": []
    },
    {
      "cell_type": "markdown",
      "metadata": {},
      "source": [
        "Here's another fantastic option for you: the `groupby_dynamic` feature. It's really impressive, by the way. You can employ this when grouping based on years or any other time-related information. Additionally, you can make use of the `every` parameter for resampling, which closely resembles what you can do with pandas.\n"
      ],
      "id": "1c8ca962"
    },
    {
      "cell_type": "code",
      "metadata": {
        "tags": []
      },
      "source": [
        "(\n",
        "    df.sort(by=\"year\")\n",
        "    .groupby_dynamic(index_column=\"year\", every=\"2y\")\n",
        "    .agg([pl.col(\"comb08\").mean(), pl.col(\"city08\").mean()])\n",
        "    .sort(\n",
        "        [\n",
        "            \"year\",\n",
        "        ]\n",
        "    )\n",
        "    .to_pandas()\n",
        "    .set_index(\"year\")\n",
        "    .plot()\n",
        ")"
      ],
      "id": "c98973b2",
      "execution_count": null,
      "outputs": []
    },
    {
      "cell_type": "markdown",
      "metadata": {},
      "source": [
        "## Pivot\n",
        "\n",
        "You can also accomplish split-apply-combine tasks seamlessly using the pivot function. It's remarkably straightforward.\n"
      ],
      "id": "835602ae"
    },
    {
      "cell_type": "code",
      "metadata": {
        "tags": []
      },
      "source": [
        "(\n",
        "    df.with_columns(\n",
        "        pl.col(\"fuelType\").cast(pl.Utf8)\n",
        "    )  # conversion to str is needed for the next step\n",
        "    .filter(pl.col(\"fuelType\").is_in([\"Regular\", \"Premium\"]))\n",
        "    .pivot(values=\"city08\", index=\"make\", columns=\"fuelType\", aggregate_function=\"mean\")\n",
        ")"
      ],
      "id": "9f171a08",
      "execution_count": null,
      "outputs": []
    },
    {
      "cell_type": "markdown",
      "metadata": {},
      "source": [
        "# Handling missing data\n",
        "\n",
        "## Getting missing value count per column  \n",
        "\n",
        "The `null_count` function showcases the count of missing values in the dataframe. Remember, these are not the same as np.nans; it's important to be aware of this distinction. This functionality is akin to the pandas `df.isna().sum()` operation if you're familiar with pandas.\n"
      ],
      "id": "0a3b7e10"
    },
    {
      "cell_type": "code",
      "metadata": {
        "tags": []
      },
      "source": [
        "df.null_count()"
      ],
      "id": "0b819285",
      "execution_count": null,
      "outputs": []
    },
    {
      "cell_type": "markdown",
      "metadata": {},
      "source": [
        "## Getting boolean array of missing values \n",
        "\n",
        "If you ever need to manipulate a series based on its null values, you can also obtain a boolean mask using the `is_null` function. This can be really handy for targeted data manipulation.\n"
      ],
      "id": "109e8fd3"
    },
    {
      "cell_type": "code",
      "metadata": {
        "tags": []
      },
      "source": [
        "#| column: margin\n",
        "\n",
        "df.select(pl.col(\"city08\").is_null())"
      ],
      "id": "3c84d83a",
      "execution_count": null,
      "outputs": []
    },
    {
      "cell_type": "markdown",
      "metadata": {},
      "source": [
        "## Filling missing values\n",
        "\n",
        "You have a variety of options at your disposal for filling in missing values. Here's a list of some of the most common ones, although it's not an exhaustive rundown.\n",
        "\n",
        "### With literals\n"
      ],
      "id": "ce7303f1"
    },
    {
      "cell_type": "code",
      "metadata": {
        "tags": []
      },
      "source": [
        "(df.with_columns(pl.col(\"cylinders\").fill_null(pl.lit(2))))"
      ],
      "id": "1331d174",
      "execution_count": null,
      "outputs": []
    },
    {
      "cell_type": "code",
      "metadata": {
        "tags": []
      },
      "source": [
        "(df.with_columns(pl.col(\"cylinders\").fill_null(strategy=\"zero\")))"
      ],
      "id": "db3373e0",
      "execution_count": null,
      "outputs": []
    },
    {
      "cell_type": "code",
      "metadata": {
        "tags": []
      },
      "source": [
        "(df.with_columns(pl.col(\"cylinders\").fill_null(strategy=\"forward\")))"
      ],
      "id": "df4d28b2",
      "execution_count": null,
      "outputs": []
    },
    {
      "cell_type": "markdown",
      "metadata": {},
      "source": [
        "### With an expression\n",
        "\n",
        "This can be very useful for machine learning pipelines. When addressing missing values, you can set them to the mode, median, mean, or any other value that suits your needs.\n"
      ],
      "id": "cd58fd2f"
    },
    {
      "cell_type": "code",
      "metadata": {
        "tags": []
      },
      "source": [
        "(df.with_columns(pl.col(\"cylinders\").fill_null(pl.col(\"cylinders\").mode())))"
      ],
      "id": "1b493b7c",
      "execution_count": null,
      "outputs": []
    },
    {
      "cell_type": "markdown",
      "metadata": {},
      "source": [
        "### Using the `over` function \n",
        "\n",
        "The `over` function in Polars is used to perform window operations, akin to what you'd achieve with window functions in SQL or the `transform` function in pandas. This function enables you to compute aggregations over a specified window or range of rows defined by a window specification. It's perfect for tasks like calculating rolling averages, cumulative sums, and other operations that involve working with a specific subset of rows within the dataset.\n",
        "\n",
        "Let's begin by filtering the car makes to encompass only the top 5 car brands. Following that, we can utilize the `over` function to derive several statistics.\n"
      ],
      "id": "604f6be8"
    },
    {
      "cell_type": "code",
      "metadata": {
        "tags": []
      },
      "source": [
        "top5 = (\n",
        "    df.select(pl.col(\"make\"))\n",
        "    .to_series()\n",
        "    .value_counts()\n",
        "    .sort(by=\"counts\", descending=True)\n",
        "    .limit(3)\n",
        "    .select(pl.col(\"make\"))\n",
        "    .to_series()\n",
        ")\n",
        "\n",
        "(\n",
        "    df.filter(pl.col(\"make\").is_in(top5)).select(\n",
        "        \"make\",\n",
        "        \"model\",\n",
        "        pl.col(\"city08\").mean().over(\"make\").alias(\"avg_city_mpg_by_make\"),\n",
        "        pl.col(\"city08\").mean().over(\"model\").alias(\"avg_city_mpg_by_model\"),\n",
        "        pl.col(\"comb08\").mean().over([\"make\", \"model\"]).alias(\"avg_comb_mpg_by_model\"),\n",
        "    )\n",
        ")"
      ],
      "id": "66626885",
      "execution_count": null,
      "outputs": []
    },
    {
      "cell_type": "markdown",
      "metadata": {},
      "source": [
        "# Other common operations\n",
        "\n",
        "In the upcoming section, you'll discover a mix of handy operations that I've ended up using quite often. These don't exactly fit into the categories we've covered earlier, but they're still quite useful!\n",
        "\n",
        "## Operating on multiple columns and renaming them\n",
        "\n",
        "You have the flexibility to conduct column operations and then easily rename them. Additionally, you can make use of the `prefix` and `suffix` functions to streamline your workflow. \n"
      ],
      "id": "a8cd9b39"
    },
    {
      "cell_type": "code",
      "metadata": {
        "tags": []
      },
      "source": [
        "(df.with_columns((cs.numeric() * 2).prefix(\"changed_\")))"
      ],
      "id": "435e463f",
      "execution_count": null,
      "outputs": []
    },
    {
      "cell_type": "markdown",
      "metadata": {},
      "source": [
        "## Count unique values\n",
        "\n",
        "Absolutely, you can also count the unique values within a series in Polars, much like you would with the `unique` function in pandas. This can be really useful for understanding the distribution and diversity of data within a specific column.\n"
      ],
      "id": "a16e933b"
    },
    {
      "cell_type": "code",
      "metadata": {
        "tags": []
      },
      "source": [
        "df.select(pl.col(\"make\")).n_unique()"
      ],
      "id": "5d3f8540",
      "execution_count": null,
      "outputs": []
    },
    {
      "cell_type": "markdown",
      "metadata": {},
      "source": [
        "## Value_counts to get number of occurrences per item\n",
        "\n",
        "### On a single column\n"
      ],
      "id": "a1215c5a"
    },
    {
      "cell_type": "code",
      "metadata": {
        "tags": []
      },
      "source": [
        "#| column: margin\n",
        "\n",
        "(df.select(pl.col(\"make\")).to_series().value_counts(sort=True))"
      ],
      "id": "c6fb38e0",
      "execution_count": null,
      "outputs": []
    },
    {
      "cell_type": "code",
      "metadata": {
        "tags": []
      },
      "source": [
        "#| column: margin\n",
        "\n",
        "(df.select(pl.col(\"make\")).groupby(\"make\").count().sort(by=\"count\", descending=True))"
      ],
      "id": "328d8ddb",
      "execution_count": null,
      "outputs": []
    },
    {
      "cell_type": "markdown",
      "metadata": {},
      "source": [
        "### On multiple columns\n",
        "\n",
        "I noticed that Polars lacks the capability to perform value counts on multiple columns, unlike pandas' `value_counts` function which operates only on series. However, I've discovered that combining a `groupby` operation with a `count` function can effectively achieve the same outcome for multiple columns. It's all about finding alternative approaches that get the job done!\n"
      ],
      "id": "f0cc00ef"
    },
    {
      "cell_type": "code",
      "metadata": {
        "tags": []
      },
      "source": [
        "#| column: margin\n",
        "\n",
        "(\n",
        "    df.select(pl.col(\"make\", \"model\"))\n",
        "    .groupby([\"make\", \"model\"])\n",
        "    .count()\n",
        "    .sort(by=\"count\", descending=True)\n",
        ")"
      ],
      "id": "59ef9711",
      "execution_count": null,
      "outputs": []
    },
    {
      "cell_type": "markdown",
      "metadata": {},
      "source": [
        "## Conditionals/ if-else statements\n",
        "\n",
        "If you're looking to integrate conditional if-else statements into your Polars chain, you can make use of the `when`, `then`, and `otherwise` functions. However, keep in mind that a series of chained `when`, `then` statements should be interpreted as if, elif, ... elif, rather than if, if, ... if. In other words, the first condition that evaluates to True will be selected. It's crucial to understand this distinction when crafting your conditions.\n"
      ],
      "id": "eb03887a"
    },
    {
      "cell_type": "code",
      "metadata": {
        "tags": []
      },
      "source": [
        "#| column: margin\n",
        "\n",
        "(\n",
        "    df.select(\n",
        "        pl.col(\"make\"),\n",
        "        pl.when(pl.col(\"comb08\") < 15)\n",
        "        .then(\"bad\")\n",
        "        .when(pl.col(\"comb08\") < 30)\n",
        "        .then(\"good\")\n",
        "        .otherwise(\"very good\")\n",
        "        .alias(\"fuel_economy\"),\n",
        "    )\n",
        ")"
      ],
      "id": "37167bdf",
      "execution_count": null,
      "outputs": []
    },
    {
      "cell_type": "markdown",
      "metadata": {},
      "source": [
        "Alright, folks, that's it for this introduction to Polars. I know it wasn't exactly short, but I hope it was informative! I'll be adding more content to this article in the future, so stay tuned. Until then, happy coding 😎💻🔎\n",
        "\n",
        "# Document version\n",
        "\n",
        "| Version      | Date      | Comment          |\n",
        "|  :----:      | :----:    | :----:           |\n",
        "| 0.1          | 8/11/2023 | Document created |\n"
      ],
      "id": "5da132c9"
    }
  ],
  "metadata": {
    "kernelspec": {
      "display_name": "Python 3",
      "language": "python",
      "name": "python3"
    }
  },
  "nbformat": 4,
  "nbformat_minor": 5
}