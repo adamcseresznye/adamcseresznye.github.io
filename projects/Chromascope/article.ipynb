{
 "cells": [
  {
   "cell_type": "raw",
   "id": "b7097881-075b-409b-81b4-c7ecdd4424b3",
   "metadata": {
    "vscode": {
     "languageId": "raw"
    }
   },
   "source": [
    "---\n",
    "title: 'Chromascope: A lightweight GUI for mass spectrometry data analysis'\n",
    "author: Adam Cseresznye\n",
    "date: '2024-10-11'\n",
    "categories:\n",
    "  - Rust\n",
    "jupyter: python3\n",
    "toc: true\n",
    "format:\n",
    "  html:\n",
    "    code-fold: true\n",
    "    code-tools: true\n",
    "---"
   ]
  },
  {
   "cell_type": "markdown",
   "id": "57f841cc-e21c-464f-92cc-3df2a243b63e",
   "metadata": {},
   "source": [
    "![](chromascope_icon.png \"Chromascope icon\"){fig-align=\"center\" width=25%}"
   ]
  },
  {
   "cell_type": "markdown",
   "id": "d34b8f49-05d1-4ece-94bb-2b6cbd08e5ac",
   "metadata": {},
   "source": [
    "Have you ever needed to quickly review mass spectrometry data stored in mzML format but struggled to find software that was both fast and efficient? You’re not alone—this very challenge inspired the creation of Chromascope.\n",
    "\n",
    "## Why Chromascope?\n",
    "\n",
    "The mzML format, an open, XML-based standard, is widely used for mass spectrometry data storage and processing. While vendor-specific files are often easy to manage with proprietary software, finding a GUI-based tool that handles mzML files with similar ease can be difficult. Chromascope is designed to fill this gap, offering a streamlined, lightweight application for rapid data inspection.\n",
    "\n",
    "## What’s Behind the Name?\n",
    "\n",
    "Chromascope combines *\"chromatography\"* with *\"scope\"* evoking the sense of exploration and analysis, much like a telescope does in astronomy. The goal is to offer insightful, user-friendly interaction with mass spectrometry data.\n"
   ]
  },
  {
   "cell_type": "markdown",
   "id": "565651f9",
   "metadata": {},
   "source": [
    "::: {.callout-note}\n",
    "- You can check out the project through its [github page](https://github.com/adamcseresznye/chromascope).\n",
    "- The documentation can be found [here](https://adamcseresznye.github.io/chromascope/docs/chromascope/index.html).\n",
    "- The binaries for Windows/Mac and Linux are downloadable [here](https://github.com/adamcseresznye/chromascope/releases/tag/v0.1.0).\n",
    "\n",
    ":::"
   ]
  },
  {
   "cell_type": "markdown",
   "id": "07fa5c4f",
   "metadata": {},
   "source": [
    "![Chromascope is fast when handling complex LC-MS data](demo.gif \"Title\"){fig-align=\"center\" width=100%}"
   ]
  },
  {
   "cell_type": "markdown",
   "id": "9830d8e8",
   "metadata": {},
   "source": [
    "## Key Features\n",
    "\n",
    "- **mzML File Support**: Full compatibility with mzML, one of the most common open standards for mass spectrometry.\n",
    "- **User-Friendly Interface**: Plot TIC, BPC, or XIC with ease by simply clicking on the chromatogram. A triple-click reveals the mass spectrum at any chosen retention time.\n",
    "- **Customizable Display**: Tailor visual settings, such as smoothing, line color, and style, to suit your preferences.\n",
    "- **Dark Theme Support**: For those long hours of analysis, Chromascope includes a dark mode for a more comfortable viewing experience.\n",
    "- **Cross-Platform Compatibility**: Available on Windows, macOS, and Linux, Chromascope runs smoothly across multiple operating systems.\n",
    "\n",
    "## Community Feedback and Future Improvements\n",
    "\n",
    "To gather initial user feedback, we posted an early version of Chromascope on [Reddit](https://www.reddit.com/r/massspectrometry/comments/1f5myjn/chromascope_a_lightweight_gui_mzml_file_viewer/). The response has been overwhelmingly positive, with over 3,500 views, more than 20 comments, 13 shares, and a 100% upvote rate. This feedback has been instrumental in identifying potential areas for future enhancement, including:\n",
    "\n",
    "- Adding support for displaying MS/MS data.\n",
    "- Adding peak integration capabilities.\n",
    "- Implementing background subtraction.\n",
    "- Supporting additional file formats beyond mzML.\n",
    "\n",
    "We’re excited to continue improving Chromascope, thanks to the enthusiastic feedback from the community. Let's keep in touch. "
   ]
  }
 ],
 "metadata": {
  "kernelspec": {
   "display_name": "Python 3 (ipykernel)",
   "language": "python",
   "name": "python3"
  },
  "language_info": {
   "codemirror_mode": {
    "name": "ipython",
    "version": 3
   },
   "file_extension": ".py",
   "mimetype": "text/x-python",
   "name": "python",
   "nbconvert_exporter": "python",
   "pygments_lexer": "ipython3",
   "version": "3.10.12"
  }
 },
 "nbformat": 4,
 "nbformat_minor": 5
}
